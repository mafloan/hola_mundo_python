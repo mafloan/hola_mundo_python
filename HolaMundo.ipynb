{
  "nbformat": 4,
  "nbformat_minor": 0,
  "metadata": {
    "colab": {
      "provenance": [],
      "authorship_tag": "ABX9TyPNVogdT5C/NSf5UiGnNtgd",
      "include_colab_link": true
    },
    "kernelspec": {
      "name": "python3",
      "display_name": "Python 3"
    },
    "language_info": {
      "name": "python"
    }
  },
  "cells": [
    {
      "cell_type": "markdown",
      "metadata": {
        "id": "view-in-github",
        "colab_type": "text"
      },
      "source": [
        "<a href=\"https://colab.research.google.com/github/mafloan/hola_mundo_python/blob/main/HolaMundo.ipynb\" target=\"_parent\"><img src=\"https://colab.research.google.com/assets/colab-badge.svg\" alt=\"Open In Colab\"/></a>"
      ]
    },
    {
      "cell_type": "code",
      "execution_count": null,
      "metadata": {
        "colab": {
          "base_uri": "https://localhost:8080/"
        },
        "id": "MnVM9ySYyRvr",
        "outputId": "779f51f1-d841-4af5-f1c1-df1cd76e8393"
      },
      "outputs": [
        {
          "output_type": "stream",
          "name": "stdout",
          "text": [
            "¡Hola mundo!\n"
          ]
        }
      ],
      "source": [
        "print('¡Hola mundo!')"
      ]
    },
    {
      "cell_type": "code",
      "source": [
        "15"
      ],
      "metadata": {
        "colab": {
          "base_uri": "https://localhost:8080/"
        },
        "id": "pY5cuJjz0tN3",
        "outputId": "99143ade-a092-4828-ddf8-d4a8c6ebc148"
      },
      "execution_count": null,
      "outputs": [
        {
          "output_type": "execute_result",
          "data": {
            "text/plain": [
              "15"
            ]
          },
          "metadata": {},
          "execution_count": 3
        }
      ]
    },
    {
      "cell_type": "code",
      "source": [
        "print('Mi nombre es Florencia y tengo 40 años')"
      ],
      "metadata": {
        "colab": {
          "base_uri": "https://localhost:8080/"
        },
        "id": "fxFQxNw804G4",
        "outputId": "48aec10e-f412-4cbf-e4df-696151b43489"
      },
      "execution_count": null,
      "outputs": [
        {
          "output_type": "stream",
          "name": "stdout",
          "text": [
            "Mi nombre es Florencia y tengo 40 años\n"
          ]
        }
      ]
    },
    {
      "cell_type": "code",
      "source": [
        "from re import A\n",
        "print('Escuela de Datos Alura')\n",
        "print('Nombre: María Florencia')\n",
        "print('Apellido:Farias Franzosi')\n",
        "print('M')\n",
        "print('A')\n",
        "print('R')\n",
        "print('I')\n",
        "print('A')\n",
        "print('13 de agosto de 1984')\n",
        "print('Año actual:2025')\n"
      ],
      "metadata": {
        "colab": {
          "base_uri": "https://localhost:8080/"
        },
        "id": "rpjt0R8R0_wr",
        "outputId": "30cadaeb-cfd2-43f7-833b-15afa6820e59"
      },
      "execution_count": null,
      "outputs": [
        {
          "output_type": "stream",
          "name": "stdout",
          "text": [
            "Escuelta de Datos Alura\n",
            "Nombre: María Florencia\n",
            "Apellido:Farias Franzosi\n",
            "M\n",
            "A\n",
            "R\n",
            "I\n",
            "A\n",
            "13 de agosto de 1984\n",
            "Año actual:2025\n"
          ]
        }
      ]
    },
    {
      "cell_type": "code",
      "source": [
        "edad=15\n",
        "type(edad)"
      ],
      "metadata": {
        "colab": {
          "base_uri": "https://localhost:8080/"
        },
        "id": "-YPYXR1X89tf",
        "outputId": "081eebd3-88e4-4afb-87d8-721d3b8d6fe1"
      },
      "execution_count": null,
      "outputs": [
        {
          "output_type": "execute_result",
          "data": {
            "text/plain": [
              "int"
            ]
          },
          "metadata": {},
          "execution_count": 7
        }
      ]
    },
    {
      "cell_type": "code",
      "source": [
        "nombre='Marisa'\n",
        "type(nombre)"
      ],
      "metadata": {
        "colab": {
          "base_uri": "https://localhost:8080/"
        },
        "id": "mSVgVNK_-OQl",
        "outputId": "3d87ae0d-2f27-4b6d-83aa-e988b7718205"
      },
      "execution_count": null,
      "outputs": [
        {
          "output_type": "execute_result",
          "data": {
            "text/plain": [
              "str"
            ]
          },
          "metadata": {},
          "execution_count": 9
        }
      ]
    },
    {
      "cell_type": "code",
      "source": [
        "promedio=8.80\n",
        "type(promedio)"
      ],
      "metadata": {
        "colab": {
          "base_uri": "https://localhost:8080/"
        },
        "id": "8vI4T-OY-V1q",
        "outputId": "680b6998-0826-4a66-ef2d-20d570687a74"
      },
      "execution_count": null,
      "outputs": [
        {
          "output_type": "execute_result",
          "data": {
            "text/plain": [
              "float"
            ]
          },
          "metadata": {},
          "execution_count": 10
        }
      ]
    },
    {
      "cell_type": "code",
      "source": [
        "v=True\n",
        "type(v)\n"
      ],
      "metadata": {
        "colab": {
          "base_uri": "https://localhost:8080/"
        },
        "id": "doXWFO7N-kUM",
        "outputId": "e23356d7-c031-414d-dba6-b1d6c34583f5"
      },
      "execution_count": null,
      "outputs": [
        {
          "output_type": "execute_result",
          "data": {
            "text/plain": [
              "bool"
            ]
          },
          "metadata": {},
          "execution_count": 11
        }
      ]
    },
    {
      "cell_type": "code",
      "source": [
        "nombre_estudiante='Penélope Camacho'\n",
        "edad_estudiante=11\n",
        "promedio_estudiante=9.75\n",
        "aprobado=True\n",
        "\n",
        "print(nombre_estudiante, edad_estudiante,promedio_estudiante,aprobado)\n",
        "print(type(nombre_estudiante),type(edad_estudiante),type(promedio_estudiante),type(aprobado))\n"
      ],
      "metadata": {
        "colab": {
          "base_uri": "https://localhost:8080/"
        },
        "id": "c-pl8qTa-pa2",
        "outputId": "c7acf518-65c2-43d8-863c-aa5c18ffb03c"
      },
      "execution_count": null,
      "outputs": [
        {
          "output_type": "stream",
          "name": "stdout",
          "text": [
            "Penélope Camacho 11 9.75 True\n",
            "<class 'str'> <class 'int'> <class 'float'> <class 'bool'>\n"
          ]
        }
      ]
    },
    {
      "cell_type": "code",
      "source": [
        "cantidad_vigilantes=5\n",
        "salarios_vigilantes=300\n",
        "\n",
        "cantidad_docentes=16\n",
        "salarios_docentes=500\n",
        "\n",
        "cantidad_coordinadores=2\n",
        "salarios_coordinadores=600\n",
        "\n",
        "total_empleados=cantidad_vigilantes+cantidad_docentes+cantidad_coordinadores\n",
        "print(total_empleados)\n",
        "\n",
        "diferencia_salarios=salarios_coordinadores-salarios_vigilantes\n",
        "print(diferencia_salarios)\n",
        "\n",
        "promedio_salarios=(salarios_vigilantes*cantidad_vigilantes+salarios_docentes*cantidad_docentes+salarios_coordinadores*cantidad_coordinadores)/total_empleados\n",
        "print(promedio_salarios)"
      ],
      "metadata": {
        "colab": {
          "base_uri": "https://localhost:8080/"
        },
        "id": "L-hb-3p-A3oo",
        "outputId": "f9e36bbd-98ce-40d4-a9c3-0084351e1f16"
      },
      "execution_count": null,
      "outputs": [
        {
          "output_type": "stream",
          "name": "stdout",
          "text": [
            "23\n",
            "300\n",
            "465.2173913043478\n"
          ]
        }
      ]
    },
    {
      "cell_type": "code",
      "source": [
        "nombre_estudiante='Malena de los Tios'\n",
        "id(nombre_estudiante)\n"
      ],
      "metadata": {
        "colab": {
          "base_uri": "https://localhost:8080/"
        },
        "id": "sErZ2JUwKuw2",
        "outputId": "7931109b-51b6-4cd4-bfcd-e664e0ae627c"
      },
      "execution_count": null,
      "outputs": [
        {
          "output_type": "execute_result",
          "data": {
            "text/plain": [
              "140082911712624"
            ]
          },
          "metadata": {},
          "execution_count": 15
        }
      ]
    },
    {
      "cell_type": "code",
      "source": [
        "type(nombre_estudiante)\n"
      ],
      "metadata": {
        "colab": {
          "base_uri": "https://localhost:8080/"
        },
        "id": "IDliGNRTMSve",
        "outputId": "f95eb6d9-12d3-4262-fcbe-1036075247df"
      },
      "execution_count": null,
      "outputs": [
        {
          "output_type": "execute_result",
          "data": {
            "text/plain": [
              "str"
            ]
          },
          "metadata": {},
          "execution_count": 16
        }
      ]
    },
    {
      "cell_type": "code",
      "source": [
        "str.upper(nombre_estudiante)\n"
      ],
      "metadata": {
        "colab": {
          "base_uri": "https://localhost:8080/",
          "height": 35
        },
        "id": "W4wbzYWQMl4P",
        "outputId": "22eeece6-21c8-4c0c-fd43-b596903dd655"
      },
      "execution_count": null,
      "outputs": [
        {
          "output_type": "execute_result",
          "data": {
            "text/plain": [
              "'MALENA DE LOS TIOS'"
            ],
            "application/vnd.google.colaboratory.intrinsic+json": {
              "type": "string"
            }
          },
          "metadata": {},
          "execution_count": 17
        }
      ]
    },
    {
      "cell_type": "code",
      "source": [
        "str.lower(nombre_estudiante)"
      ],
      "metadata": {
        "colab": {
          "base_uri": "https://localhost:8080/",
          "height": 35
        },
        "id": "CTr91kLBQebg",
        "outputId": "e7d43dbf-42ba-479a-931a-014a9a007013"
      },
      "execution_count": null,
      "outputs": [
        {
          "output_type": "execute_result",
          "data": {
            "text/plain": [
              "'malena de los tios'"
            ],
            "application/vnd.google.colaboratory.intrinsic+json": {
              "type": "string"
            }
          },
          "metadata": {},
          "execution_count": 18
        }
      ]
    },
    {
      "cell_type": "code",
      "source": [
        "str.replace(nombre_estudiante,'T','R')\n"
      ],
      "metadata": {
        "colab": {
          "base_uri": "https://localhost:8080/",
          "height": 35
        },
        "id": "aYEE6bflQhVD",
        "outputId": "d35bb919-4a1f-404d-88fe-65369da793a0"
      },
      "execution_count": null,
      "outputs": [
        {
          "output_type": "execute_result",
          "data": {
            "text/plain": [
              "'Malena de los Rios'"
            ],
            "application/vnd.google.colaboratory.intrinsic+json": {
              "type": "string"
            }
          },
          "metadata": {},
          "execution_count": 20
        }
      ]
    },
    {
      "cell_type": "code",
      "source": [
        "nombre=input('Escribe tu nombre: ')\n"
      ],
      "metadata": {
        "id": "XkDLUXjAQo85",
        "colab": {
          "base_uri": "https://localhost:8080/"
        },
        "outputId": "8df679d1-3bc3-467e-d22e-4678ae2dd908"
      },
      "execution_count": null,
      "outputs": [
        {
          "name": "stdout",
          "output_type": "stream",
          "text": [
            "Escribe tu nombre: Florencia\n"
          ]
        }
      ]
    },
    {
      "cell_type": "code",
      "source": [
        " type(nombre)"
      ],
      "metadata": {
        "colab": {
          "base_uri": "https://localhost:8080/"
        },
        "id": "sN9QzQadWrbP",
        "outputId": "fc6fe2b4-fb02-4977-f50a-abd9711d5eca"
      },
      "execution_count": null,
      "outputs": [
        {
          "output_type": "execute_result",
          "data": {
            "text/plain": [
              "str"
            ]
          },
          "metadata": {},
          "execution_count": 3
        }
      ]
    },
    {
      "cell_type": "code",
      "source": [
        "ano_ingreso=int(input('Escribe tu año de ingreso: '))"
      ],
      "metadata": {
        "colab": {
          "base_uri": "https://localhost:8080/"
        },
        "id": "Uoz1nqf8YLp3",
        "outputId": "942f99b2-c659-49b2-d56f-41acfb8832f0"
      },
      "execution_count": null,
      "outputs": [
        {
          "name": "stdout",
          "output_type": "stream",
          "text": [
            "Escribe tu año de ingreso: 2023\n"
          ]
        }
      ]
    },
    {
      "cell_type": "code",
      "source": [
        "type(ano_ingreso)"
      ],
      "metadata": {
        "colab": {
          "base_uri": "https://localhost:8080/"
        },
        "id": "3RJ8ujdfYQfT",
        "outputId": "7f2ac7fb-661a-42ff-9f43-5b75faf048d2"
      },
      "execution_count": null,
      "outputs": [
        {
          "output_type": "execute_result",
          "data": {
            "text/plain": [
              "int"
            ]
          },
          "metadata": {},
          "execution_count": 11
        }
      ]
    },
    {
      "cell_type": "code",
      "source": [
        "calificacion_ingreso=float(input('Escribe tu calificación de ingreso: '))"
      ],
      "metadata": {
        "colab": {
          "base_uri": "https://localhost:8080/"
        },
        "id": "sg_kgQL-Ydej",
        "outputId": "1523e246-6484-4473-b76d-527baf7875c0"
      },
      "execution_count": null,
      "outputs": [
        {
          "name": "stdout",
          "output_type": "stream",
          "text": [
            "Escribe tu calificación de ingreso: 9.85\n"
          ]
        }
      ]
    },
    {
      "cell_type": "code",
      "source": [
        "type(calificacion_ingreso)"
      ],
      "metadata": {
        "colab": {
          "base_uri": "https://localhost:8080/"
        },
        "id": "GypfkuUVYiMG",
        "outputId": "6c8c1788-26e8-4bcf-aa32-56854d6822bd"
      },
      "execution_count": null,
      "outputs": [
        {
          "output_type": "execute_result",
          "data": {
            "text/plain": [
              "float"
            ]
          },
          "metadata": {},
          "execution_count": 15
        }
      ]
    },
    {
      "cell_type": "code",
      "source": [
        "print(f'\\tEl año de ingreso fue: {ano_ingreso}\\n\\tLa calificación de ingreso fue: {calificacion_ingreso}')\n"
      ],
      "metadata": {
        "colab": {
          "base_uri": "https://localhost:8080/"
        },
        "id": "Dw_uHcpGYokP",
        "outputId": "c8845074-f249-41a1-8d66-ece8a1642ee0"
      },
      "execution_count": null,
      "outputs": [
        {
          "output_type": "stream",
          "name": "stdout",
          "text": [
            "\tEl año de ingreso fue: 2023\n",
            "\tLa calificación de ingreso fue: 9.85\n"
          ]
        }
      ]
    },
    {
      "cell_type": "code",
      "source": [
        "chr(64)"
      ],
      "metadata": {
        "colab": {
          "base_uri": "https://localhost:8080/",
          "height": 35
        },
        "id": "8EVzjQb9dnY5",
        "outputId": "a41ed05c-ba2e-47a8-e7c3-ec50cd59986f"
      },
      "execution_count": null,
      "outputs": [
        {
          "output_type": "execute_result",
          "data": {
            "text/plain": [
              "'@'"
            ],
            "application/vnd.google.colaboratory.intrinsic+json": {
              "type": "string"
            }
          },
          "metadata": {},
          "execution_count": 20
        }
      ]
    },
    {
      "cell_type": "code",
      "source": [
        "chr(98)+chr(97)+chr(49)+chr(97)"
      ],
      "metadata": {
        "colab": {
          "base_uri": "https://localhost:8080/",
          "height": 35
        },
        "id": "ULprUy5Odp_u",
        "outputId": "4e516fb5-0846-4594-c869-567c2070d418"
      },
      "execution_count": null,
      "outputs": [
        {
          "output_type": "execute_result",
          "data": {
            "text/plain": [
              "'ba1a'"
            ],
            "application/vnd.google.colaboratory.intrinsic+json": {
              "type": "string"
            }
          },
          "metadata": {},
          "execution_count": 27
        }
      ]
    },
    {
      "cell_type": "code",
      "source": [
        "nombre_usuario=int(input('Escribe tu nombre: '))"
      ],
      "metadata": {
        "colab": {
          "base_uri": "https://localhost:8080/"
        },
        "id": "Utf2mpWUeW7O",
        "outputId": "1ca7d3b2-77a0-43fa-f66d-289f1fed82bc"
      },
      "execution_count": null,
      "outputs": [
        {
          "name": "stdout",
          "output_type": "stream",
          "text": [
            "Escribe tu nombre de usuario: Lorenzo\n"
          ]
        }
      ]
    },
    {
      "cell_type": "code",
      "source": [
        "edad_usuario=int(input('Escribe tu edad: '))"
      ],
      "metadata": {
        "colab": {
          "base_uri": "https://localhost:8080/"
        },
        "id": "eiIZFm7RLf7-",
        "outputId": "17d2b59e-c3d4-40a4-b667-0519885c8486"
      },
      "execution_count": null,
      "outputs": [
        {
          "name": "stdout",
          "output_type": "stream",
          "text": [
            "Escribe tu edad: 8\n"
          ]
        }
      ]
    },
    {
      "cell_type": "code",
      "source": [
        "nombre_usuario = 'Lorenzo'\n",
        "edad_usuario = 8\n",
        "print(f'Hola {nombre_usuario}, tenés {edad_usuario} años')"
      ],
      "metadata": {
        "colab": {
          "base_uri": "https://localhost:8080/"
        },
        "id": "0o9w_lhxL0Ak",
        "outputId": "2cb503f5-cb46-4973-dec4-f5115678b252"
      },
      "execution_count": null,
      "outputs": [
        {
          "output_type": "stream",
          "name": "stdout",
          "text": [
            "Hola Lorenzo, tenés 8 años\n"
          ]
        }
      ]
    },
    {
      "cell_type": "code",
      "source": [
        "altura_usuario=float(input('Escribe tu altura en metros: '))\n"
      ],
      "metadata": {
        "colab": {
          "base_uri": "https://localhost:8080/"
        },
        "id": "LZKLnYHPMMUo",
        "outputId": "7a9e9f6c-e856-44b3-e104-abb27a9983a7"
      },
      "execution_count": null,
      "outputs": [
        {
          "name": "stdout",
          "output_type": "stream",
          "text": [
            "Escribe tu altura en metros: 1.40\n"
          ]
        }
      ]
    },
    {
      "cell_type": "code",
      "source": [
        "nombre_usuario = 'Lorenzo'\n",
        "edad_usuario = 8\n",
        "altura_usuario=1.40\n",
        "print('Hola %s, tenés %d años y medís %f metros' % (nombre_usuario, edad_usuario, altura_usuario))"
      ],
      "metadata": {
        "colab": {
          "base_uri": "https://localhost:8080/"
        },
        "id": "DOoSEPxOQ0xv",
        "outputId": "a473cb3b-81bc-4ecc-8e1f-325529bcab53"
      },
      "execution_count": null,
      "outputs": [
        {
          "output_type": "stream",
          "name": "stdout",
          "text": [
            "Hola Lorenzo, tenés 8 años y medís 1.400000 metros\n"
          ]
        }
      ]
    },
    {
      "cell_type": "code",
      "source": [
        "numero_mayor= int(input('Escribe un número del 7 al 10:  '))\n"
      ],
      "metadata": {
        "colab": {
          "base_uri": "https://localhost:8080/"
        },
        "id": "d-rX9qsHTLYf",
        "outputId": "8fbc2b0d-ca2c-4cb5-ff7f-e79b0bca604e"
      },
      "execution_count": null,
      "outputs": [
        {
          "name": "stdout",
          "output_type": "stream",
          "text": [
            "Escribe un número del 7 al 10:  8\n"
          ]
        }
      ]
    },
    {
      "cell_type": "code",
      "source": [
        "type(numero_mayor)"
      ],
      "metadata": {
        "colab": {
          "base_uri": "https://localhost:8080/"
        },
        "id": "TQh7kMu8TYKt",
        "outputId": "35ec9ec3-0e0a-416c-a0c9-e9d603151d11"
      },
      "execution_count": null,
      "outputs": [
        {
          "output_type": "execute_result",
          "data": {
            "text/plain": [
              "int"
            ]
          },
          "metadata": {},
          "execution_count": 62
        }
      ]
    },
    {
      "cell_type": "code",
      "source": [
        "numero_menor=int(input('Escribe un número del 1 al 3: '))\n"
      ],
      "metadata": {
        "colab": {
          "base_uri": "https://localhost:8080/"
        },
        "id": "iFgvacR_ThEX",
        "outputId": "40990ed8-8128-4f52-ab0e-cb7f182b5f89"
      },
      "execution_count": null,
      "outputs": [
        {
          "name": "stdout",
          "output_type": "stream",
          "text": [
            "Escribe un número del 1 al 3: 3\n"
          ]
        }
      ]
    },
    {
      "cell_type": "code",
      "source": [
        "type(numero_menor)\n"
      ],
      "metadata": {
        "colab": {
          "base_uri": "https://localhost:8080/"
        },
        "id": "_3vaFAsDWH-p",
        "outputId": "99f3e451-3748-4c19-f0e5-dc5662e3a7db"
      },
      "execution_count": null,
      "outputs": [
        {
          "output_type": "execute_result",
          "data": {
            "text/plain": [
              "int"
            ]
          },
          "metadata": {},
          "execution_count": 66
        }
      ]
    },
    {
      "cell_type": "code",
      "source": [
        "print(f'El resultado de la suma es {numero_mayor + numero_menor}')"
      ],
      "metadata": {
        "colab": {
          "base_uri": "https://localhost:8080/"
        },
        "id": "ooNQaGS3UFE0",
        "outputId": "847845fb-e098-48e1-ef16-5de456e1a380"
      },
      "execution_count": null,
      "outputs": [
        {
          "output_type": "stream",
          "name": "stdout",
          "text": [
            "El resultado de la suma es 11\n"
          ]
        }
      ]
    },
    {
      "cell_type": "code",
      "source": [
        "numero_del_medio=int(input('Escribe un número del 4 al 6: '))"
      ],
      "metadata": {
        "colab": {
          "base_uri": "https://localhost:8080/"
        },
        "id": "wEsocIJsZK86",
        "outputId": "fa96e351-ce14-469a-ea0f-bb329b734fbe"
      },
      "execution_count": null,
      "outputs": [
        {
          "name": "stdout",
          "output_type": "stream",
          "text": [
            "Escribe un número del 4 al 6: 5\n"
          ]
        }
      ]
    },
    {
      "cell_type": "code",
      "source": [
        "type(numero_del_medio)"
      ],
      "metadata": {
        "colab": {
          "base_uri": "https://localhost:8080/"
        },
        "id": "UblZD1LBUQgP",
        "outputId": "2719702d-4b6f-4775-baa6-6ffc309b57a3"
      },
      "execution_count": null,
      "outputs": [
        {
          "output_type": "execute_result",
          "data": {
            "text/plain": [
              "int"
            ]
          },
          "metadata": {},
          "execution_count": 79
        }
      ]
    },
    {
      "cell_type": "code",
      "source": [
        "print(f'El resultado de la resta es {numero_mayor - numero_menor}')\n"
      ],
      "metadata": {
        "colab": {
          "base_uri": "https://localhost:8080/"
        },
        "id": "JP3gShqApJ1A",
        "outputId": "f7c38a66-c520-4ce1-ec6a-78aee2d6f85d"
      },
      "execution_count": null,
      "outputs": [
        {
          "output_type": "stream",
          "name": "stdout",
          "text": [
            "El resultado de la resta es 5\n"
          ]
        }
      ]
    },
    {
      "cell_type": "code",
      "source": [
        "print(f'El resultad de la suma es {numero_mayor + numero_del_medio+numero_menor}')"
      ],
      "metadata": {
        "colab": {
          "base_uri": "https://localhost:8080/"
        },
        "id": "kv8zwArbrAy5",
        "outputId": "4f0b4e1e-c58d-4c49-a0f4-52b3402db415"
      },
      "execution_count": null,
      "outputs": [
        {
          "output_type": "stream",
          "name": "stdout",
          "text": [
            "El resultad de la suma es 16\n"
          ]
        }
      ]
    },
    {
      "cell_type": "code",
      "source": [
        "print(f'El resultado de la multiplicación es {numero_mayor * numero_del_medio}')"
      ],
      "metadata": {
        "colab": {
          "base_uri": "https://localhost:8080/"
        },
        "id": "Ju2w4mqosCJ_",
        "outputId": "e5724729-c78f-4874-d8c8-f0c48534855c"
      },
      "execution_count": null,
      "outputs": [
        {
          "output_type": "stream",
          "name": "stdout",
          "text": [
            "El resultado de la multiplicación es 40\n"
          ]
        }
      ]
    },
    {
      "cell_type": "code",
      "source": [
        "print(f'El resultado de la división es {numero_mayor / numero_del_medio}')"
      ],
      "metadata": {
        "colab": {
          "base_uri": "https://localhost:8080/"
        },
        "id": "pVMvB07XsRfq",
        "outputId": "95f16faf-4fa5-4cae-a6c1-914359899e89"
      },
      "execution_count": null,
      "outputs": [
        {
          "output_type": "stream",
          "name": "stdout",
          "text": [
            "El resultado de la división es 1.6\n"
          ]
        }
      ]
    },
    {
      "cell_type": "code",
      "source": [
        "print(f'El resultado de la división potencia es {numero_del_medio ** numero_del_medio}')"
      ],
      "metadata": {
        "colab": {
          "base_uri": "https://localhost:8080/"
        },
        "id": "GQ2vpMr8srha",
        "outputId": "7576083e-2e9b-4278-e9c4-58fd0e2af880"
      },
      "execution_count": null,
      "outputs": [
        {
          "output_type": "stream",
          "name": "stdout",
          "text": [
            "El resultado de la división potencia es 3125\n"
          ]
        }
      ]
    },
    {
      "cell_type": "code",
      "source": [
        "calificacion_matematicas=float(input('Escribe tu calificación de matemáticas: '))"
      ],
      "metadata": {
        "colab": {
          "base_uri": "https://localhost:8080/"
        },
        "id": "kTdfOP5_vsBb",
        "outputId": "db77ba7f-bc7a-40dd-d117-596c7f6880ee"
      },
      "execution_count": null,
      "outputs": [
        {
          "name": "stdout",
          "output_type": "stream",
          "text": [
            "Escribe tu calificación de matemáticas: 8\n"
          ]
        }
      ]
    },
    {
      "cell_type": "code",
      "source": [
        "calificacion_historia=float(input('Escribe tu calificación de historia: '))"
      ],
      "metadata": {
        "colab": {
          "base_uri": "https://localhost:8080/"
        },
        "id": "BEnBL2jVw2AG",
        "outputId": "dea01c3a-b650-4e87-8cfd-6ae6740358ab"
      },
      "execution_count": null,
      "outputs": [
        {
          "name": "stdout",
          "output_type": "stream",
          "text": [
            "Escribe tu calificación de historia: 10\n"
          ]
        }
      ]
    },
    {
      "cell_type": "code",
      "source": [
        "calificacion_lengua=float(input('Escribe tu calificación de lengua: '))"
      ],
      "metadata": {
        "colab": {
          "base_uri": "https://localhost:8080/"
        },
        "id": "GUKJvpaxw8AI",
        "outputId": "b4c60af4-2398-4715-e41a-fe0e8a7156d6"
      },
      "execution_count": null,
      "outputs": [
        {
          "name": "stdout",
          "output_type": "stream",
          "text": [
            "Escribe tu calificación de lengua: 9\n"
          ]
        }
      ]
    },
    {
      "cell_type": "code",
      "source": [
        "print(f'Tu promedio es {(calificacion_matematicas+calificacion_historia+calificacion_lengua)/3}')"
      ],
      "metadata": {
        "colab": {
          "base_uri": "https://localhost:8080/"
        },
        "id": "bWjxEhKUx0v9",
        "outputId": "b1e3c20d-c264-4b9d-db2f-9216f472a748"
      },
      "execution_count": null,
      "outputs": [
        {
          "output_type": "stream",
          "name": "stdout",
          "text": [
            "Tu promedio es 9.0\n"
          ]
        }
      ]
    },
    {
      "cell_type": "code",
      "source": [
        "frase_usuario=input('Escribe una frase: ')"
      ],
      "metadata": {
        "colab": {
          "base_uri": "https://localhost:8080/"
        },
        "id": "Vs5wcLCIyN9z",
        "outputId": "8cf8974e-316f-4deb-a312-64eb360af86f"
      },
      "execution_count": null,
      "outputs": [
        {
          "name": "stdout",
          "output_type": "stream",
          "text": [
            "Escribe una frase: Qué noche fría\n"
          ]
        }
      ]
    },
    {
      "cell_type": "code",
      "source": [
        "print(f'Qué noche fría')"
      ],
      "metadata": {
        "colab": {
          "base_uri": "https://localhost:8080/"
        },
        "id": "-3OZLGEs4hCU",
        "outputId": "f27572d2-c666-4361-adc2-d235ceda30a1"
      },
      "execution_count": null,
      "outputs": [
        {
          "output_type": "stream",
          "name": "stdout",
          "text": [
            "Qué noche fría\n"
          ]
        }
      ]
    },
    {
      "cell_type": "code",
      "source": [
        "str.upper(frase_usuario)"
      ],
      "metadata": {
        "colab": {
          "base_uri": "https://localhost:8080/",
          "height": 35
        },
        "id": "PmILPrfO429_",
        "outputId": "0daf1e79-feed-4f8e-dfaf-8d27ee28f0b2"
      },
      "execution_count": null,
      "outputs": [
        {
          "output_type": "execute_result",
          "data": {
            "text/plain": [
              "'QUÉ NOCHE FRÍA'"
            ],
            "application/vnd.google.colaboratory.intrinsic+json": {
              "type": "string"
            }
          },
          "metadata": {},
          "execution_count": 96
        }
      ]
    },
    {
      "cell_type": "code",
      "source": [
        "str.lower(frase_usuario)"
      ],
      "metadata": {
        "colab": {
          "base_uri": "https://localhost:8080/",
          "height": 35
        },
        "id": "JscCRzf95EUL",
        "outputId": "d3cfb590-a8f4-4eed-aa02-107e961786e7"
      },
      "execution_count": null,
      "outputs": [
        {
          "output_type": "execute_result",
          "data": {
            "text/plain": [
              "'qué noche fría'"
            ],
            "application/vnd.google.colaboratory.intrinsic+json": {
              "type": "string"
            }
          },
          "metadata": {},
          "execution_count": 97
        }
      ]
    },
    {
      "cell_type": "code",
      "source": [
        "str.replace(frase_usuario,'e','f')"
      ],
      "metadata": {
        "colab": {
          "base_uri": "https://localhost:8080/",
          "height": 35
        },
        "id": "D7q8qZer5G15",
        "outputId": "4ec630ff-e4d9-483c-c85c-9ba854a9c834"
      },
      "execution_count": null,
      "outputs": [
        {
          "output_type": "execute_result",
          "data": {
            "text/plain": [
              "'Qué nochf fría'"
            ],
            "application/vnd.google.colaboratory.intrinsic+json": {
              "type": "string"
            }
          },
          "metadata": {},
          "execution_count": 98
        }
      ]
    },
    {
      "cell_type": "code",
      "source": [
        "str.replace(frase_usuario,'a','@')"
      ],
      "metadata": {
        "colab": {
          "base_uri": "https://localhost:8080/",
          "height": 35
        },
        "id": "9B-KcLiY5k6f",
        "outputId": "1640cf23-3855-4add-e74a-43486d1f9e1d"
      },
      "execution_count": null,
      "outputs": [
        {
          "output_type": "execute_result",
          "data": {
            "text/plain": [
              "'Qué noche frí@'"
            ],
            "application/vnd.google.colaboratory.intrinsic+json": {
              "type": "string"
            }
          },
          "metadata": {},
          "execution_count": 99
        }
      ]
    },
    {
      "cell_type": "code",
      "source": [
        "str.replace(frase_usuario,'r','$')"
      ],
      "metadata": {
        "colab": {
          "base_uri": "https://localhost:8080/",
          "height": 35
        },
        "id": "MdsapcRa5wLj",
        "outputId": "7d612b63-0e3d-404a-f95f-d0902c356dc8"
      },
      "execution_count": null,
      "outputs": [
        {
          "output_type": "execute_result",
          "data": {
            "text/plain": [
              "'Qué noche f$ía'"
            ],
            "application/vnd.google.colaboratory.intrinsic+json": {
              "type": "string"
            }
          },
          "metadata": {},
          "execution_count": 100
        }
      ]
    },
    {
      "cell_type": "code",
      "source": [
        "frase_usuario.strip()"
      ],
      "metadata": {
        "colab": {
          "base_uri": "https://localhost:8080/",
          "height": 35
        },
        "id": "VeqcyWUt5-y_",
        "outputId": "008696c5-833d-4b81-ed63-f776cc653efc"
      },
      "execution_count": null,
      "outputs": [
        {
          "output_type": "execute_result",
          "data": {
            "text/plain": [
              "'Qué noche fría'"
            ],
            "application/vnd.google.colaboratory.intrinsic+json": {
              "type": "string"
            }
          },
          "metadata": {},
          "execution_count": 104
        }
      ]
    },
    {
      "cell_type": "code",
      "source": [
        "media_ponderada = (5*1 + 12*2 + 20*3 + 15*4) / (1+2+3+4)\n",
        "print(f'Media {media_ponderada}.')"
      ],
      "metadata": {
        "colab": {
          "base_uri": "https://localhost:8080/"
        },
        "id": "q_5u1trj6nzT",
        "outputId": "ed86454f-a20e-4944-b56c-641a6897db02"
      },
      "execution_count": null,
      "outputs": [
        {
          "output_type": "stream",
          "name": "stdout",
          "text": [
            "Media 14.9.\n"
          ]
        }
      ]
    }
  ]
}